{
 "cells": [
  {
   "cell_type": "markdown",
   "metadata": {},
   "source": [
    "# Import Libraries"
   ]
  },
  {
   "cell_type": "code",
   "execution_count": 1,
   "metadata": {},
   "outputs": [],
   "source": [
    "import pandas as pd\n",
    "from pandas_profiling import ProfileReport\n",
    "import requests\n",
    "from math import floor"
   ]
  },
  {
   "cell_type": "markdown",
   "metadata": {},
   "source": [
    "# Read Data"
   ]
  },
  {
   "cell_type": "code",
   "execution_count": 2,
   "metadata": {},
   "outputs": [],
   "source": [
    "file='C:/Users/Amit/Desktop/Internships/KPMG/dataset.xlsx'\n",
    "df4 = pd.read_excel(file, sheet_name=\"NewCustomerList\",header=1)"
   ]
  },
  {
   "cell_type": "markdown",
   "metadata": {},
   "source": [
    "# Pre-processing"
   ]
  },
  {
   "cell_type": "code",
   "execution_count": 3,
   "metadata": {},
   "outputs": [],
   "source": [
    "# filter rows\n",
    "df4=df4.loc[df4['deceased_indicator']=='N']\n",
    "\n",
    "# replacing values in columns\n",
    "df4=df4.replace({'gender': {'F': 'Female','M' : 'Male','Femal':'Female'}})\n",
    "df4=df4.replace({'state': {'New South Wales': 'NSW','Victoria' : 'VIC'}})\n",
    "\n",
    "# filling missing values in tenure column\n",
    "df4['tenure'] = df4['tenure'].fillna((floor(df4['tenure'].mean())))\n",
    "\n",
    "# filling missing values in DOB column\n",
    "u = df4.select_dtypes(include=['datetime'])\n",
    "df4[u.columns] = u.fillna(pd.to_datetime('2017'))"
   ]
  },
  {
   "cell_type": "markdown",
   "metadata": {},
   "source": [
    "# Feature Engineering"
   ]
  },
  {
   "cell_type": "code",
   "execution_count": 4,
   "metadata": {},
   "outputs": [],
   "source": [
    "# getting age of customer\n",
    "df4['age']=df4['DOB'].apply(lambda x: 2017- int(str(x)[:4]))\n",
    "df4['age'].replace(0,39, inplace=True)"
   ]
  },
  {
   "cell_type": "markdown",
   "metadata": {},
   "source": [
    "# Feature Selection"
   ]
  },
  {
   "cell_type": "code",
   "execution_count": 5,
   "metadata": {},
   "outputs": [],
   "source": [
    "df4=df4[['gender','age',\n",
    "         'job_industry_category', 'wealth_segment', 'owns_car', \n",
    "         'tenure', 'state', 'property_valuation','past_3_years_bike_related_purchases']]"
   ]
  },
  {
   "cell_type": "code",
   "execution_count": 6,
   "metadata": {},
   "outputs": [],
   "source": [
    "# removing duplicate rows\n",
    "df4=df4.drop_duplicates()\n",
    "df5=df4.copy()"
   ]
  },
  {
   "cell_type": "markdown",
   "metadata": {},
   "source": [
    "# Encoding Variables"
   ]
  },
  {
   "cell_type": "code",
   "execution_count": 7,
   "metadata": {},
   "outputs": [],
   "source": [
    "scale_mapper = {'Mass Customer':1, \n",
    "                'Affluent Customer':2,\n",
    "                'High Net Worth':3}\n",
    "# Map feature values to scale\n",
    "df5['wealth_segment'] = df5['wealth_segment'].replace(scale_mapper)"
   ]
  },
  {
   "cell_type": "code",
   "execution_count": 8,
   "metadata": {},
   "outputs": [],
   "source": [
    "x1 = pd.get_dummies(df5['gender'], prefix='gender')\n",
    "x2 = pd.get_dummies(df5['job_industry_category'], prefix='job')\n",
    "x3 = pd.get_dummies(df5['owns_car'], prefix='car')\n",
    "x4 = pd.get_dummies(df5['state'], prefix='state')"
   ]
  },
  {
   "cell_type": "code",
   "execution_count": 9,
   "metadata": {},
   "outputs": [],
   "source": [
    "X=pd.concat([x1,x2,x3,x4,df5[['age','wealth_segment','tenure','property_valuation']]],axis=1)            \n",
    "X=X.drop(['gender_U','job_Telecommunications','car_Yes','state_VIC'],axis=1)"
   ]
  },
  {
   "cell_type": "code",
   "execution_count": 10,
   "metadata": {},
   "outputs": [
    {
     "data": {
      "text/plain": [
       "(1000, 17)"
      ]
     },
     "execution_count": 10,
     "metadata": {},
     "output_type": "execute_result"
    }
   ],
   "source": [
    "X.shape"
   ]
  },
  {
   "cell_type": "code",
   "execution_count": 11,
   "metadata": {},
   "outputs": [],
   "source": [
    "X.to_csv('test.csv',index=False)"
   ]
  }
 ],
 "metadata": {
  "kernelspec": {
   "display_name": "Python 3",
   "language": "python",
   "name": "python3"
  },
  "language_info": {
   "codemirror_mode": {
    "name": "ipython",
    "version": 3
   },
   "file_extension": ".py",
   "mimetype": "text/x-python",
   "name": "python",
   "nbconvert_exporter": "python",
   "pygments_lexer": "ipython3",
   "version": "3.7.4"
  }
 },
 "nbformat": 4,
 "nbformat_minor": 2
}
