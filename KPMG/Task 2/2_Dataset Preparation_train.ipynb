{
 "cells": [
  {
   "cell_type": "markdown",
   "metadata": {},
   "source": [
    "# Import Libraries"
   ]
  },
  {
   "cell_type": "code",
   "execution_count": 1,
   "metadata": {},
   "outputs": [],
   "source": [
    "import pandas as pd\n",
    "from pandas_profiling import ProfileReport\n",
    "import requests\n",
    "from math import floor"
   ]
  },
  {
   "cell_type": "markdown",
   "metadata": {},
   "source": [
    "# Read Data"
   ]
  },
  {
   "cell_type": "code",
   "execution_count": 2,
   "metadata": {},
   "outputs": [],
   "source": [
    "file='C:/Users/Amit/Desktop/Internships/KPMG/dataset.xlsx'\n",
    "df1 = pd.read_excel(file, sheet_name=\"CustomerDemographic\",header=1)\n",
    "df2 = pd.read_excel(file, sheet_name=\"CustomerAddress\",header=1)\n",
    "df3 = pd.read_excel(file, sheet_name=\"Transactions\",header=1)\n",
    "df4=pd.merge(df1,df2,on='customer_id')"
   ]
  },
  {
   "cell_type": "markdown",
   "metadata": {},
   "source": [
    "# Pre-processing"
   ]
  },
  {
   "cell_type": "code",
   "execution_count": 3,
   "metadata": {},
   "outputs": [],
   "source": [
    "# filter rows\n",
    "df3=df3.loc[df3['order_status']=='Approved']\n",
    "df4=df4.loc[df4['deceased_indicator']=='N']\n",
    "\n",
    "# replacing values in columns\n",
    "df4=df4.replace({'gender': {'F': 'Female','M' : 'Male','Femal':'Female'}})\n",
    "df4=df4.replace({'state': {'New South Wales': 'NSW','Victoria' : 'VIC'}})\n",
    "\n",
    "# filling missing values in tenure column\n",
    "df4['tenure'] = df4['tenure'].fillna((floor(df4['tenure'].mean())))\n",
    "\n",
    "# filling missing values in DOB column\n",
    "u = df4.select_dtypes(include=['datetime'])\n",
    "df4[u.columns] = u.fillna(pd.to_datetime('2017'))"
   ]
  },
  {
   "cell_type": "markdown",
   "metadata": {},
   "source": [
    "# Feature Engineering"
   ]
  },
  {
   "cell_type": "code",
   "execution_count": 4,
   "metadata": {},
   "outputs": [],
   "source": [
    "# getting age of customer\n",
    "df4['age']=df4['DOB'].apply(lambda x: 2017- int(str(x)[:4]))\n",
    "df4['age'].replace(0,39, inplace=True)\n",
    "\n",
    "# creating target variable\n",
    "df3['profit']=df3[\"list_price\"]-df3[\"standard_cost\"]"
   ]
  },
  {
   "cell_type": "markdown",
   "metadata": {},
   "source": [
    "# Feature Selection"
   ]
  },
  {
   "cell_type": "code",
   "execution_count": 5,
   "metadata": {},
   "outputs": [],
   "source": [
    "df4=df4[['customer_id','gender','age',\n",
    "         'job_industry_category', 'wealth_segment', 'owns_car', \n",
    "         'tenure', 'state', 'property_valuation','past_3_years_bike_related_purchases']]\n",
    "\n",
    "df3=df3[['customer_id','profit']].sort_values(by=['customer_id']).reset_index(drop=True)\n",
    "df3=df3.groupby('customer_id',as_index=False).mean()"
   ]
  },
  {
   "cell_type": "markdown",
   "metadata": {},
   "source": [
    "# Joining tables"
   ]
  },
  {
   "cell_type": "code",
   "execution_count": 6,
   "metadata": {},
   "outputs": [
    {
     "data": {
      "text/html": [
       "<div>\n",
       "<style scoped>\n",
       "    .dataframe tbody tr th:only-of-type {\n",
       "        vertical-align: middle;\n",
       "    }\n",
       "\n",
       "    .dataframe tbody tr th {\n",
       "        vertical-align: top;\n",
       "    }\n",
       "\n",
       "    .dataframe thead th {\n",
       "        text-align: right;\n",
       "    }\n",
       "</style>\n",
       "<table border=\"1\" class=\"dataframe\">\n",
       "  <thead>\n",
       "    <tr style=\"text-align: right;\">\n",
       "      <th></th>\n",
       "      <th>gender</th>\n",
       "      <th>age</th>\n",
       "      <th>job_industry_category</th>\n",
       "      <th>wealth_segment</th>\n",
       "      <th>owns_car</th>\n",
       "      <th>tenure</th>\n",
       "      <th>state</th>\n",
       "      <th>property_valuation</th>\n",
       "      <th>past_3_years_bike_related_purchases</th>\n",
       "      <th>profit</th>\n",
       "    </tr>\n",
       "  </thead>\n",
       "  <tbody>\n",
       "    <tr>\n",
       "      <th>0</th>\n",
       "      <td>Female</td>\n",
       "      <td>64</td>\n",
       "      <td>Health</td>\n",
       "      <td>Mass Customer</td>\n",
       "      <td>Yes</td>\n",
       "      <td>11.0</td>\n",
       "      <td>NSW</td>\n",
       "      <td>10</td>\n",
       "      <td>93</td>\n",
       "      <td>274.371818</td>\n",
       "    </tr>\n",
       "    <tr>\n",
       "      <th>1</th>\n",
       "      <td>Male</td>\n",
       "      <td>37</td>\n",
       "      <td>Financial Services</td>\n",
       "      <td>Mass Customer</td>\n",
       "      <td>Yes</td>\n",
       "      <td>16.0</td>\n",
       "      <td>NSW</td>\n",
       "      <td>10</td>\n",
       "      <td>81</td>\n",
       "      <td>742.086667</td>\n",
       "    </tr>\n",
       "    <tr>\n",
       "      <th>2</th>\n",
       "      <td>Male</td>\n",
       "      <td>56</td>\n",
       "      <td>IT</td>\n",
       "      <td>Mass Customer</td>\n",
       "      <td>No</td>\n",
       "      <td>7.0</td>\n",
       "      <td>QLD</td>\n",
       "      <td>9</td>\n",
       "      <td>33</td>\n",
       "      <td>110.285000</td>\n",
       "    </tr>\n",
       "    <tr>\n",
       "      <th>3</th>\n",
       "      <td>Female</td>\n",
       "      <td>40</td>\n",
       "      <td>NaN</td>\n",
       "      <td>Affluent Customer</td>\n",
       "      <td>Yes</td>\n",
       "      <td>8.0</td>\n",
       "      <td>NSW</td>\n",
       "      <td>4</td>\n",
       "      <td>56</td>\n",
       "      <td>399.156667</td>\n",
       "    </tr>\n",
       "    <tr>\n",
       "      <th>4</th>\n",
       "      <td>Male</td>\n",
       "      <td>51</td>\n",
       "      <td>Retail</td>\n",
       "      <td>High Net Worth</td>\n",
       "      <td>Yes</td>\n",
       "      <td>13.0</td>\n",
       "      <td>VIC</td>\n",
       "      <td>9</td>\n",
       "      <td>35</td>\n",
       "      <td>789.310000</td>\n",
       "    </tr>\n",
       "  </tbody>\n",
       "</table>\n",
       "</div>"
      ],
      "text/plain": [
       "   gender  age job_industry_category     wealth_segment owns_car  tenure  \\\n",
       "0  Female   64                Health      Mass Customer      Yes    11.0   \n",
       "1    Male   37    Financial Services      Mass Customer      Yes    16.0   \n",
       "2    Male   56                    IT      Mass Customer       No     7.0   \n",
       "3  Female   40                   NaN  Affluent Customer      Yes     8.0   \n",
       "4    Male   51                Retail     High Net Worth      Yes    13.0   \n",
       "\n",
       "  state  property_valuation  past_3_years_bike_related_purchases      profit  \n",
       "0   NSW                  10                                   93  274.371818  \n",
       "1   NSW                  10                                   81  742.086667  \n",
       "2   QLD                   9                                   33  110.285000  \n",
       "3   NSW                   4                                   56  399.156667  \n",
       "4   VIC                   9                                   35  789.310000  "
      ]
     },
     "execution_count": 6,
     "metadata": {},
     "output_type": "execute_result"
    }
   ],
   "source": [
    "df5=pd.merge(df4,df3,on='customer_id',how='inner').iloc[:,1:]\n",
    "df5.head()"
   ]
  },
  {
   "cell_type": "code",
   "execution_count": 7,
   "metadata": {},
   "outputs": [],
   "source": [
    "# removing duplicate rows\n",
    "df5=df5.drop_duplicates()"
   ]
  },
  {
   "cell_type": "markdown",
   "metadata": {},
   "source": [
    "# Encoding Variables"
   ]
  },
  {
   "cell_type": "code",
   "execution_count": 8,
   "metadata": {},
   "outputs": [],
   "source": [
    "scale_mapper = {'Mass Customer':1, \n",
    "                'Affluent Customer':2,\n",
    "                'High Net Worth':3}\n",
    "# Map feature values to scale\n",
    "df5['wealth_segment'] = df5['wealth_segment'].replace(scale_mapper)"
   ]
  },
  {
   "cell_type": "code",
   "execution_count": 9,
   "metadata": {},
   "outputs": [],
   "source": [
    "x1 = pd.get_dummies(df5['gender'], prefix='gender')\n",
    "x2 = pd.get_dummies(df5['job_industry_category'], prefix='job')\n",
    "x3 = pd.get_dummies(df5['owns_car'], prefix='car')\n",
    "x4 = pd.get_dummies(df5['state'], prefix='state')"
   ]
  },
  {
   "cell_type": "code",
   "execution_count": 10,
   "metadata": {},
   "outputs": [
    {
     "data": {
      "text/html": [
       "<div>\n",
       "<style scoped>\n",
       "    .dataframe tbody tr th:only-of-type {\n",
       "        vertical-align: middle;\n",
       "    }\n",
       "\n",
       "    .dataframe tbody tr th {\n",
       "        vertical-align: top;\n",
       "    }\n",
       "\n",
       "    .dataframe thead th {\n",
       "        text-align: right;\n",
       "    }\n",
       "</style>\n",
       "<table border=\"1\" class=\"dataframe\">\n",
       "  <thead>\n",
       "    <tr style=\"text-align: right;\">\n",
       "      <th></th>\n",
       "      <th>gender_Female</th>\n",
       "      <th>gender_Male</th>\n",
       "      <th>job_Argiculture</th>\n",
       "      <th>job_Entertainment</th>\n",
       "      <th>job_Financial Services</th>\n",
       "      <th>job_Health</th>\n",
       "      <th>job_IT</th>\n",
       "      <th>job_Manufacturing</th>\n",
       "      <th>job_Property</th>\n",
       "      <th>job_Retail</th>\n",
       "      <th>car_No</th>\n",
       "      <th>state_NSW</th>\n",
       "      <th>state_QLD</th>\n",
       "      <th>age</th>\n",
       "      <th>wealth_segment</th>\n",
       "      <th>tenure</th>\n",
       "      <th>property_valuation</th>\n",
       "      <th>profit</th>\n",
       "    </tr>\n",
       "  </thead>\n",
       "  <tbody>\n",
       "    <tr>\n",
       "      <th>0</th>\n",
       "      <td>1</td>\n",
       "      <td>0</td>\n",
       "      <td>0</td>\n",
       "      <td>0</td>\n",
       "      <td>0</td>\n",
       "      <td>1</td>\n",
       "      <td>0</td>\n",
       "      <td>0</td>\n",
       "      <td>0</td>\n",
       "      <td>0</td>\n",
       "      <td>0</td>\n",
       "      <td>1</td>\n",
       "      <td>0</td>\n",
       "      <td>64</td>\n",
       "      <td>1</td>\n",
       "      <td>11.0</td>\n",
       "      <td>10</td>\n",
       "      <td>274.371818</td>\n",
       "    </tr>\n",
       "    <tr>\n",
       "      <th>1</th>\n",
       "      <td>0</td>\n",
       "      <td>1</td>\n",
       "      <td>0</td>\n",
       "      <td>0</td>\n",
       "      <td>1</td>\n",
       "      <td>0</td>\n",
       "      <td>0</td>\n",
       "      <td>0</td>\n",
       "      <td>0</td>\n",
       "      <td>0</td>\n",
       "      <td>0</td>\n",
       "      <td>1</td>\n",
       "      <td>0</td>\n",
       "      <td>37</td>\n",
       "      <td>1</td>\n",
       "      <td>16.0</td>\n",
       "      <td>10</td>\n",
       "      <td>742.086667</td>\n",
       "    </tr>\n",
       "    <tr>\n",
       "      <th>2</th>\n",
       "      <td>0</td>\n",
       "      <td>1</td>\n",
       "      <td>0</td>\n",
       "      <td>0</td>\n",
       "      <td>0</td>\n",
       "      <td>0</td>\n",
       "      <td>1</td>\n",
       "      <td>0</td>\n",
       "      <td>0</td>\n",
       "      <td>0</td>\n",
       "      <td>1</td>\n",
       "      <td>0</td>\n",
       "      <td>1</td>\n",
       "      <td>56</td>\n",
       "      <td>1</td>\n",
       "      <td>7.0</td>\n",
       "      <td>9</td>\n",
       "      <td>110.285000</td>\n",
       "    </tr>\n",
       "    <tr>\n",
       "      <th>3</th>\n",
       "      <td>1</td>\n",
       "      <td>0</td>\n",
       "      <td>0</td>\n",
       "      <td>0</td>\n",
       "      <td>0</td>\n",
       "      <td>0</td>\n",
       "      <td>0</td>\n",
       "      <td>0</td>\n",
       "      <td>0</td>\n",
       "      <td>0</td>\n",
       "      <td>0</td>\n",
       "      <td>1</td>\n",
       "      <td>0</td>\n",
       "      <td>40</td>\n",
       "      <td>2</td>\n",
       "      <td>8.0</td>\n",
       "      <td>4</td>\n",
       "      <td>399.156667</td>\n",
       "    </tr>\n",
       "    <tr>\n",
       "      <th>4</th>\n",
       "      <td>0</td>\n",
       "      <td>1</td>\n",
       "      <td>0</td>\n",
       "      <td>0</td>\n",
       "      <td>0</td>\n",
       "      <td>0</td>\n",
       "      <td>0</td>\n",
       "      <td>0</td>\n",
       "      <td>0</td>\n",
       "      <td>1</td>\n",
       "      <td>0</td>\n",
       "      <td>0</td>\n",
       "      <td>0</td>\n",
       "      <td>51</td>\n",
       "      <td>3</td>\n",
       "      <td>13.0</td>\n",
       "      <td>9</td>\n",
       "      <td>789.310000</td>\n",
       "    </tr>\n",
       "  </tbody>\n",
       "</table>\n",
       "</div>"
      ],
      "text/plain": [
       "   gender_Female  gender_Male  job_Argiculture  job_Entertainment  \\\n",
       "0              1            0                0                  0   \n",
       "1              0            1                0                  0   \n",
       "2              0            1                0                  0   \n",
       "3              1            0                0                  0   \n",
       "4              0            1                0                  0   \n",
       "\n",
       "   job_Financial Services  job_Health  job_IT  job_Manufacturing  \\\n",
       "0                       0           1       0                  0   \n",
       "1                       1           0       0                  0   \n",
       "2                       0           0       1                  0   \n",
       "3                       0           0       0                  0   \n",
       "4                       0           0       0                  0   \n",
       "\n",
       "   job_Property  job_Retail  car_No  state_NSW  state_QLD  age  \\\n",
       "0             0           0       0          1          0   64   \n",
       "1             0           0       0          1          0   37   \n",
       "2             0           0       1          0          1   56   \n",
       "3             0           0       0          1          0   40   \n",
       "4             0           1       0          0          0   51   \n",
       "\n",
       "   wealth_segment  tenure  property_valuation      profit  \n",
       "0               1    11.0                  10  274.371818  \n",
       "1               1    16.0                  10  742.086667  \n",
       "2               1     7.0                   9  110.285000  \n",
       "3               2     8.0                   4  399.156667  \n",
       "4               3    13.0                   9  789.310000  "
      ]
     },
     "execution_count": 10,
     "metadata": {},
     "output_type": "execute_result"
    }
   ],
   "source": [
    "X=pd.concat([x1,x2,x3,x4,df5[['age','wealth_segment','tenure','property_valuation']]],axis=1)\n",
    "X=X.drop(['gender_U','job_Telecommunications','car_Yes','state_VIC'],axis=1)\n",
    "\n",
    "data=pd.concat([X,df5['profit']],axis=1)\n",
    "            \n",
    "data.head()"
   ]
  },
  {
   "cell_type": "code",
   "execution_count": 11,
   "metadata": {},
   "outputs": [
    {
     "data": {
      "text/plain": [
       "(3487, 18)"
      ]
     },
     "execution_count": 11,
     "metadata": {},
     "output_type": "execute_result"
    }
   ],
   "source": [
    "data.shape"
   ]
  },
  {
   "cell_type": "code",
   "execution_count": 12,
   "metadata": {},
   "outputs": [],
   "source": [
    "data.to_csv('train.csv',index=False)"
   ]
  }
 ],
 "metadata": {
  "kernelspec": {
   "display_name": "Python 3",
   "language": "python",
   "name": "python3"
  },
  "language_info": {
   "codemirror_mode": {
    "name": "ipython",
    "version": 3
   },
   "file_extension": ".py",
   "mimetype": "text/x-python",
   "name": "python",
   "nbconvert_exporter": "python",
   "pygments_lexer": "ipython3",
   "version": "3.7.4"
  }
 },
 "nbformat": 4,
 "nbformat_minor": 2
}
