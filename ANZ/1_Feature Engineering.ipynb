{
 "cells": [
  {
   "cell_type": "markdown",
   "metadata": {},
   "source": [
    "# Import Libraries"
   ]
  },
  {
   "cell_type": "code",
   "execution_count": 2,
   "metadata": {},
   "outputs": [],
   "source": [
    "import pandas as pd\n",
    "from pandas_profiling import ProfileReport\n",
    "import requests\n",
    "from fake_useragent import UserAgent\n",
    "from selenium import webdriver\n",
    "from selenium.webdriver.common.keys import Keys\n",
    "from webdriver_manager.chrome import ChromeDriverManager\n",
    "import bs4\n",
    "import time"
   ]
  },
  {
   "cell_type": "markdown",
   "metadata": {},
   "source": [
    "# Read Dataset"
   ]
  },
  {
   "cell_type": "code",
   "execution_count": 55,
   "metadata": {},
   "outputs": [
    {
     "data": {
      "text/html": [
       "<div>\n",
       "<style scoped>\n",
       "    .dataframe tbody tr th:only-of-type {\n",
       "        vertical-align: middle;\n",
       "    }\n",
       "\n",
       "    .dataframe tbody tr th {\n",
       "        vertical-align: top;\n",
       "    }\n",
       "\n",
       "    .dataframe thead th {\n",
       "        text-align: right;\n",
       "    }\n",
       "</style>\n",
       "<table border=\"1\" class=\"dataframe\">\n",
       "  <thead>\n",
       "    <tr style=\"text-align: right;\">\n",
       "      <th></th>\n",
       "      <th>status</th>\n",
       "      <th>card_present_flag</th>\n",
       "      <th>bpay_biller_code</th>\n",
       "      <th>account</th>\n",
       "      <th>currency</th>\n",
       "      <th>long_lat</th>\n",
       "      <th>txn_description</th>\n",
       "      <th>merchant_id</th>\n",
       "      <th>merchant_code</th>\n",
       "      <th>first_name</th>\n",
       "      <th>...</th>\n",
       "      <th>age</th>\n",
       "      <th>merchant_suburb</th>\n",
       "      <th>merchant_state</th>\n",
       "      <th>extraction</th>\n",
       "      <th>amount</th>\n",
       "      <th>transaction_id</th>\n",
       "      <th>country</th>\n",
       "      <th>customer_id</th>\n",
       "      <th>merchant_long_lat</th>\n",
       "      <th>movement</th>\n",
       "    </tr>\n",
       "  </thead>\n",
       "  <tbody>\n",
       "    <tr>\n",
       "      <th>0</th>\n",
       "      <td>authorized</td>\n",
       "      <td>1.0</td>\n",
       "      <td>NaN</td>\n",
       "      <td>ACC-1598451071</td>\n",
       "      <td>AUD</td>\n",
       "      <td>153.41 -27.95</td>\n",
       "      <td>POS</td>\n",
       "      <td>81c48296-73be-44a7-befa-d053f48ce7cd</td>\n",
       "      <td>NaN</td>\n",
       "      <td>Diana</td>\n",
       "      <td>...</td>\n",
       "      <td>26</td>\n",
       "      <td>Ashmore</td>\n",
       "      <td>QLD</td>\n",
       "      <td>2018-08-01T01:01:15.000+0000</td>\n",
       "      <td>16.25</td>\n",
       "      <td>a623070bfead4541a6b0fff8a09e706c</td>\n",
       "      <td>Australia</td>\n",
       "      <td>CUS-2487424745</td>\n",
       "      <td>153.38 -27.99</td>\n",
       "      <td>debit</td>\n",
       "    </tr>\n",
       "    <tr>\n",
       "      <th>1</th>\n",
       "      <td>authorized</td>\n",
       "      <td>0.0</td>\n",
       "      <td>NaN</td>\n",
       "      <td>ACC-1598451071</td>\n",
       "      <td>AUD</td>\n",
       "      <td>153.41 -27.95</td>\n",
       "      <td>SALES-POS</td>\n",
       "      <td>830a451c-316e-4a6a-bf25-e37caedca49e</td>\n",
       "      <td>NaN</td>\n",
       "      <td>Diana</td>\n",
       "      <td>...</td>\n",
       "      <td>26</td>\n",
       "      <td>Sydney</td>\n",
       "      <td>NSW</td>\n",
       "      <td>2018-08-01T01:13:45.000+0000</td>\n",
       "      <td>14.19</td>\n",
       "      <td>13270a2a902145da9db4c951e04b51b9</td>\n",
       "      <td>Australia</td>\n",
       "      <td>CUS-2487424745</td>\n",
       "      <td>151.21 -33.87</td>\n",
       "      <td>debit</td>\n",
       "    </tr>\n",
       "    <tr>\n",
       "      <th>2</th>\n",
       "      <td>authorized</td>\n",
       "      <td>1.0</td>\n",
       "      <td>NaN</td>\n",
       "      <td>ACC-1222300524</td>\n",
       "      <td>AUD</td>\n",
       "      <td>151.23 -33.94</td>\n",
       "      <td>POS</td>\n",
       "      <td>835c231d-8cdf-4e96-859d-e9d571760cf0</td>\n",
       "      <td>NaN</td>\n",
       "      <td>Michael</td>\n",
       "      <td>...</td>\n",
       "      <td>38</td>\n",
       "      <td>Sydney</td>\n",
       "      <td>NSW</td>\n",
       "      <td>2018-08-01T01:26:15.000+0000</td>\n",
       "      <td>6.42</td>\n",
       "      <td>feb79e7ecd7048a5a36ec889d1a94270</td>\n",
       "      <td>Australia</td>\n",
       "      <td>CUS-2142601169</td>\n",
       "      <td>151.21 -33.87</td>\n",
       "      <td>debit</td>\n",
       "    </tr>\n",
       "    <tr>\n",
       "      <th>3</th>\n",
       "      <td>authorized</td>\n",
       "      <td>1.0</td>\n",
       "      <td>NaN</td>\n",
       "      <td>ACC-1037050564</td>\n",
       "      <td>AUD</td>\n",
       "      <td>153.10 -27.66</td>\n",
       "      <td>SALES-POS</td>\n",
       "      <td>48514682-c78a-4a88-b0da-2d6302e64673</td>\n",
       "      <td>NaN</td>\n",
       "      <td>Rhonda</td>\n",
       "      <td>...</td>\n",
       "      <td>40</td>\n",
       "      <td>Buderim</td>\n",
       "      <td>QLD</td>\n",
       "      <td>2018-08-01T01:38:45.000+0000</td>\n",
       "      <td>40.90</td>\n",
       "      <td>2698170da3704fd981b15e64a006079e</td>\n",
       "      <td>Australia</td>\n",
       "      <td>CUS-1614226872</td>\n",
       "      <td>153.05 -26.68</td>\n",
       "      <td>debit</td>\n",
       "    </tr>\n",
       "    <tr>\n",
       "      <th>4</th>\n",
       "      <td>authorized</td>\n",
       "      <td>1.0</td>\n",
       "      <td>NaN</td>\n",
       "      <td>ACC-1598451071</td>\n",
       "      <td>AUD</td>\n",
       "      <td>153.41 -27.95</td>\n",
       "      <td>SALES-POS</td>\n",
       "      <td>b4e02c10-0852-4273-b8fd-7b3395e32eb0</td>\n",
       "      <td>NaN</td>\n",
       "      <td>Diana</td>\n",
       "      <td>...</td>\n",
       "      <td>26</td>\n",
       "      <td>Mermaid Beach</td>\n",
       "      <td>QLD</td>\n",
       "      <td>2018-08-01T01:51:15.000+0000</td>\n",
       "      <td>3.25</td>\n",
       "      <td>329adf79878c4cf0aeb4188b4691c266</td>\n",
       "      <td>Australia</td>\n",
       "      <td>CUS-2487424745</td>\n",
       "      <td>153.44 -28.06</td>\n",
       "      <td>debit</td>\n",
       "    </tr>\n",
       "  </tbody>\n",
       "</table>\n",
       "<p>5 rows × 23 columns</p>\n",
       "</div>"
      ],
      "text/plain": [
       "       status  card_present_flag bpay_biller_code         account currency  \\\n",
       "0  authorized                1.0              NaN  ACC-1598451071      AUD   \n",
       "1  authorized                0.0              NaN  ACC-1598451071      AUD   \n",
       "2  authorized                1.0              NaN  ACC-1222300524      AUD   \n",
       "3  authorized                1.0              NaN  ACC-1037050564      AUD   \n",
       "4  authorized                1.0              NaN  ACC-1598451071      AUD   \n",
       "\n",
       "        long_lat txn_description                           merchant_id  \\\n",
       "0  153.41 -27.95             POS  81c48296-73be-44a7-befa-d053f48ce7cd   \n",
       "1  153.41 -27.95       SALES-POS  830a451c-316e-4a6a-bf25-e37caedca49e   \n",
       "2  151.23 -33.94             POS  835c231d-8cdf-4e96-859d-e9d571760cf0   \n",
       "3  153.10 -27.66       SALES-POS  48514682-c78a-4a88-b0da-2d6302e64673   \n",
       "4  153.41 -27.95       SALES-POS  b4e02c10-0852-4273-b8fd-7b3395e32eb0   \n",
       "\n",
       "   merchant_code first_name  ...  age merchant_suburb merchant_state  \\\n",
       "0            NaN      Diana  ...   26         Ashmore            QLD   \n",
       "1            NaN      Diana  ...   26          Sydney            NSW   \n",
       "2            NaN    Michael  ...   38          Sydney            NSW   \n",
       "3            NaN     Rhonda  ...   40         Buderim            QLD   \n",
       "4            NaN      Diana  ...   26   Mermaid Beach            QLD   \n",
       "\n",
       "                     extraction amount                    transaction_id  \\\n",
       "0  2018-08-01T01:01:15.000+0000  16.25  a623070bfead4541a6b0fff8a09e706c   \n",
       "1  2018-08-01T01:13:45.000+0000  14.19  13270a2a902145da9db4c951e04b51b9   \n",
       "2  2018-08-01T01:26:15.000+0000   6.42  feb79e7ecd7048a5a36ec889d1a94270   \n",
       "3  2018-08-01T01:38:45.000+0000  40.90  2698170da3704fd981b15e64a006079e   \n",
       "4  2018-08-01T01:51:15.000+0000   3.25  329adf79878c4cf0aeb4188b4691c266   \n",
       "\n",
       "     country     customer_id merchant_long_lat movement  \n",
       "0  Australia  CUS-2487424745     153.38 -27.99    debit  \n",
       "1  Australia  CUS-2487424745     151.21 -33.87    debit  \n",
       "2  Australia  CUS-2142601169     151.21 -33.87    debit  \n",
       "3  Australia  CUS-1614226872     153.05 -26.68    debit  \n",
       "4  Australia  CUS-2487424745     153.44 -28.06    debit  \n",
       "\n",
       "[5 rows x 23 columns]"
      ]
     },
     "execution_count": 55,
     "metadata": {},
     "output_type": "execute_result"
    }
   ],
   "source": [
    "df = pd.read_excel('data.xlsx')\n",
    "df.head()"
   ]
  },
  {
   "cell_type": "markdown",
   "metadata": {},
   "source": [
    "# Feature Engineering (State from Latitude & Longitude of customer)"
   ]
  },
  {
   "cell_type": "code",
   "execution_count": 56,
   "metadata": {},
   "outputs": [
    {
     "data": {
      "text/plain": [
       "(32, 68)"
      ]
     },
     "execution_count": 56,
     "metadata": {},
     "output_type": "execute_result"
    }
   ],
   "source": [
    "# We can get state for some of long_lat using (merchant_long_lat, merchant_state) combo.\n",
    "# Out of 100 long_lat, I was able to retrieve 32 using this method.\n",
    "# rest 68 long_lat need to be scraped.\n",
    "k=list(set(df['merchant_long_lat']) & set(df['long_lat']))\n",
    "l=df.loc[df['merchant_long_lat'].isin(k)][['merchant_long_lat','merchant_state']].drop_duplicates()\n",
    "d1=dict(zip(l['merchant_long_lat'],l['merchant_state']))\n",
    "rem=set(df['long_lat'].replace(d1).unique())-set(d1.values())\n",
    "len(d1),len(rem)"
   ]
  },
  {
   "cell_type": "markdown",
   "metadata": {},
   "source": [
    "## Web Scraping"
   ]
  },
  {
   "cell_type": "code",
   "execution_count": 9,
   "metadata": {},
   "outputs": [
    {
     "name": "stderr",
     "output_type": "stream",
     "text": [
      "[WDM] - Current google-chrome version is 87.0.4280\n",
      "[WDM] - Get LATEST driver version for 87.0.4280\n"
     ]
    },
    {
     "name": "stdout",
     "output_type": "stream",
     "text": [
      " \n"
     ]
    },
    {
     "name": "stderr",
     "output_type": "stream",
     "text": [
      "[WDM] - Driver [C:\\Users\\Amit\\.wdm\\drivers\\chromedriver\\win32\\87.0.4280.88\\chromedriver.exe] found in cache\n"
     ]
    }
   ],
   "source": [
    "driver = webdriver.Chrome(ChromeDriverManager().install())\n",
    "url1=\"https://www.latlong.net/user/login\"\n",
    "url2=\"https://www.latlong.net/Show-Latitude-Longitude.html\""
   ]
  },
  {
   "cell_type": "code",
   "execution_count": 10,
   "metadata": {},
   "outputs": [],
   "source": [
    "# Log into website\n",
    "driver.get(url1)\n",
    "username = driver.find_element_by_id(\"email\")\n",
    "username.clear()\n",
    "username.send_keys(\"xecixi7482@maksap.com\")\n",
    "\n",
    "password = driver.find_element_by_id(\"password1\")\n",
    "password.clear()\n",
    "password.send_keys(\"apar123\")\n",
    "\n",
    "driver.find_element_by_tag_name(\"button\").click()"
   ]
  },
  {
   "cell_type": "code",
   "execution_count": null,
   "metadata": {},
   "outputs": [],
   "source": [
    "# search and store State using Latitude and Longitude values\n",
    "driver.get(url2)\n",
    "d2={}\n",
    "for i in rem:\n",
    "    try:\n",
    "        x = driver.find_element_by_id(\"latitude\")\n",
    "        x.clear()\n",
    "        x.send_keys(i.split()[1])\n",
    "        \n",
    "        time.sleep(5)\n",
    "        \n",
    "        y = driver.find_element_by_id(\"longitude\")\n",
    "        y.clear()\n",
    "        y.send_keys(i.split()[0])\n",
    "        \n",
    "        time.sleep(5)\n",
    "        \n",
    "        driver.find_element_by_tag_name(\"button\").click()\n",
    "        \n",
    "        time.sleep(5)\n",
    "        \n",
    "        source = driver.page_source\n",
    "        soup=bs4.BeautifulSoup(source, 'html.parser')\n",
    "        txt=soup.find('div',{'class':'bgw shadow padding10','id':'address'}).text\n",
    "        d2[i]=txt.split(',')[3].strip()\n",
    "        print(i,txt.split(',')[3].strip())\n",
    "        \n",
    "    except:\n",
    "        pass"
   ]
  },
  {
   "cell_type": "code",
   "execution_count": 49,
   "metadata": {},
   "outputs": [
    {
     "data": {
      "text/plain": [
       "{'150.82 -34.01': '2566Varroville Sydney  Australia',\n",
       " '115.90 -31.92': 'Western Australia',\n",
       " '146.94 -36.04': 'New South Wales',\n",
       " '150.90 -33.78': 'New South Wales',\n",
       " '115.79 -31.94': 'New South Wales',\n",
       " '144.66 -37.91': 'New South Wales',\n",
       " '151.23 -33.94': 'New South Wales',\n",
       " '150.50 -23.40': 'New South Wales',\n",
       " '144.99 -37.90': 'New South Wales',\n",
       " '151.27 -33.85': 'New South Wales',\n",
       " '147.31 -42.88': 'New South Wales',\n",
       " '144.79 -37.73': 'New South Wales',\n",
       " '130.90 -12.37': 'New South Wales',\n",
       " '114.62 -28.80': 'New South Wales',\n",
       " '151.04 -33.80': 'New South Wales',\n",
       " '147.63 -22.84': 'New South Wales',\n",
       " '151.04 -33.77': 'New South Wales',\n",
       " '151.09 -33.91': 'New South Wales',\n",
       " '115.79 -31.79': 'New South Wales',\n",
       " '153.41 -28.01': 'QLD',\n",
       " '115.81 -31.82': 'WA',\n",
       " '151.27 -33.76': 'NSW',\n",
       " '151.22 -33.87': 'NSW',\n",
       " '115.74 -31.72': 'WA',\n",
       " '153.03 -27.51': 'QLD',\n",
       " '130.84 -12.45': 'NT',\n",
       " '145.03 -37.91': 'VIC',\n",
       " '145.16 -37.84': 'VIC',\n",
       " '145.17 -37.84': 'VIC',\n",
       " '144.96 -37.84': 'VIC',\n",
       " '144.71 -37.58': 'VIC',\n",
       " '152.99 -27.49': 'QLD',\n",
       " '151.12 -33.89': 'NSW',\n",
       " '138.58 -34.96': 'SA',\n",
       " '151.08 -33.93': 'NSW',\n",
       " '145.04 -37.92': 'VIC',\n",
       " '144.89 -37.81': 'VIC',\n",
       " '144.96 -37.76': 'VIC',\n",
       " '144.98 -37.84': 'VIC',\n",
       " '149.03 -34.97': 'NSW',\n",
       " '153.41 -27.95': 'QLD',\n",
       " '121.48 -30.75': 'WA',\n",
       " '145.23 -37.86': 'VIC',\n",
       " '144.93 -37.79': 'VIC',\n",
       " '145.04 -37.85': 'VIC',\n",
       " '138.52 -35.01': 'SA',\n",
       " '153.32 -27.93': 'QLD',\n",
       " '138.56 -35.27': 'SA',\n",
       " '153.05 -27.61': 'QLD',\n",
       " '138.61 -34.89': 'SA',\n",
       " '145.03 -37.88': 'VIC',\n",
       " '116.02 -31.87': 'Western Australia',\n",
       " '147.08 -37.97': 'Victoria',\n",
       " '150.92 -33.77': 'New South Wales',\n",
       " '150.79 -33.64': 'New South Wales',\n",
       " '151.18 -33.80': 'New South Wales',\n",
       " '153.02 -27.66': 'New South Wales',\n",
       " '145.18 -37.90': 'New South Wales',\n",
       " '138.69 -34.84': 'New South Wales',\n",
       " '150.62 -33.76': 'New South Wales',\n",
       " '145.09 -37.82': 'New South Wales',\n",
       " '145.73 -17.03': 'New South Wales',\n",
       " '115.72 -32.28': 'New South Wales',\n",
       " '151.23 -33.96': 'New South Wales',\n",
       " '151.11 -33.99': 'New South Wales',\n",
       " '145.13 -37.70': 'New South Wales',\n",
       " '146.92 -36.07': 'New South Wales',\n",
       " '138.67 -34.86': 'New South Wales',\n",
       " '151.27 -33.90': 'New South Wales',\n",
       " '143.83 -37.66': 'New South Wales',\n",
       " '145.45 -37.74': 'New South Wales',\n",
       " '115.98 -32.07': 'New South Wales',\n",
       " '255.00 -573.00': 'New South Wales',\n",
       " '145.15 -37.76': 'New South Wales',\n",
       " '148.16 -23.52': 'New South Wales',\n",
       " '144.97 -37.42': 'New South Wales',\n",
       " '145.35 -38.03': 'New South Wales',\n",
       " '147.61 -37.82': 'New South Wales',\n",
       " '151.68 -32.98': 'New South Wales',\n",
       " '138.63 -34.93': 'South Australia',\n",
       " '144.89 -37.69': 'Victoria',\n",
       " '145.01 -37.93': 'Victoria',\n",
       " '115.83 -31.90': 'Western Australia',\n",
       " '116.00 -31.88': 'Western Australia',\n",
       " '115.78 -31.90': 'Western Australia',\n",
       " '116.06 -32.00': 'Western Australia',\n",
       " '149.03 -35.25': 'Australian Capital Territory',\n",
       " '143.88 -37.66': 'Victoria',\n",
       " '149.19 -21.15': 'Queensland',\n",
       " '130.98 -12.49': 'Northern Territory',\n",
       " '149.83 -29.47': 'New South Wales',\n",
       " '153.10 -27.66': 'Queensland',\n",
       " '144.96 -37.69': 'Victoria',\n",
       " '144.95 -37.76': 'Victoria',\n",
       " '145.00 -37.83': 'Victoria',\n",
       " '150.68 -33.79': 'New South Wales',\n",
       " '150.90 -34.37': 'New South Wales',\n",
       " '153.09 -27.48': 'Queensland',\n",
       " '145.06 -37.95': 'Victoria',\n",
       " '142.77 -37.06': 'Victoria'}"
      ]
     },
     "execution_count": 49,
     "metadata": {},
     "output_type": "execute_result"
    }
   ],
   "source": [
    "d1.update(d2)\n",
    "d1"
   ]
  },
  {
   "cell_type": "code",
   "execution_count": 50,
   "metadata": {},
   "outputs": [],
   "source": [
    "df['customer_state']=df['long_lat'].replace(d1)\n",
    "df['customer_state']=df['customer_state'].replace({'New South Wales':'NSW',\n",
    "                                      'Victoria':'VIC',\n",
    "                                      'Queensland':'QLD',\n",
    "                                      'South Australia':'SA',\n",
    "                                      'Western Australia':'WA',\n",
    "                                      'Northern Territory':'NT',\n",
    "                                      '2566Varroville Sydney  Australia':'NSW',\n",
    "                                      'Australian Capital Territory':'ACT'})"
   ]
  },
  {
   "cell_type": "code",
   "execution_count": 51,
   "metadata": {},
   "outputs": [
    {
     "data": {
      "text/plain": [
       "NSW    5763\n",
       "VIC    2366\n",
       "QLD    1900\n",
       "WA     1185\n",
       "SA      595\n",
       "NT      194\n",
       "ACT      40\n",
       "Name: customer_state, dtype: int64"
      ]
     },
     "execution_count": 51,
     "metadata": {},
     "output_type": "execute_result"
    }
   ],
   "source": [
    "df['customer_state'].value_counts()"
   ]
  },
  {
   "cell_type": "markdown",
   "metadata": {},
   "source": [
    "# Save Output"
   ]
  },
  {
   "cell_type": "code",
   "execution_count": 54,
   "metadata": {},
   "outputs": [],
   "source": [
    "df.drop('long_lat',axis=1).to_excel('new_data.xlsx',index=False)"
   ]
  }
 ],
 "metadata": {
  "kernelspec": {
   "display_name": "Python 3",
   "language": "python",
   "name": "python3"
  },
  "language_info": {
   "codemirror_mode": {
    "name": "ipython",
    "version": 3
   },
   "file_extension": ".py",
   "mimetype": "text/x-python",
   "name": "python",
   "nbconvert_exporter": "python",
   "pygments_lexer": "ipython3",
   "version": "3.7.4"
  }
 },
 "nbformat": 4,
 "nbformat_minor": 2
}
