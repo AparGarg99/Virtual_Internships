{
 "cells": [
  {
   "cell_type": "markdown",
   "metadata": {},
   "source": [
    "# Import Libraries"
   ]
  },
  {
   "cell_type": "code",
   "execution_count": 1,
   "metadata": {},
   "outputs": [],
   "source": [
    "from pandas import read_csv\n",
    "from sklearn.linear_model import Ridge\n",
    "from sklearn.model_selection import RepeatedKFold\n",
    "from sklearn.model_selection import GridSearchCV\n",
    "from sklearn.tree import DecisionTreeRegressor\n",
    "import numpy as np"
   ]
  },
  {
   "cell_type": "markdown",
   "metadata": {},
   "source": [
    "# Define Model functions"
   ]
  },
  {
   "cell_type": "markdown",
   "metadata": {},
   "source": [
    "## Linear Regression"
   ]
  },
  {
   "cell_type": "code",
   "execution_count": 2,
   "metadata": {},
   "outputs": [],
   "source": [
    "def LR(X,y):\n",
    "    \n",
    "    # define model\n",
    "    model = Ridge()\n",
    "    \n",
    "    # define evaluation\n",
    "    cv = RepeatedKFold(n_splits=10, n_repeats=3, random_state=1)\n",
    "    \n",
    "    # define search space\n",
    "    space = dict()\n",
    "    space['solver'] = ['svd', 'cholesky', 'lsqr', 'sag']\n",
    "    space['alpha'] = [1e-5, 1e-4, 1e-3, 1e-2, 1e-1, 1, 10, 100]\n",
    "    space['fit_intercept'] = [True, False]\n",
    "    space['normalize'] = [True, False]\n",
    "    \n",
    "    # define search\n",
    "    search = GridSearchCV(model, space, scoring='neg_mean_absolute_error', n_jobs=-1, cv=cv)\n",
    "    \n",
    "    # execute search\n",
    "    result = search.fit(X, y)\n",
    "    \n",
    "    # summarize result\n",
    "    print('Best Score: %s' % result.best_score_)\n",
    "    print('Best Hyperparameters: %s' % result.best_params_)"
   ]
  },
  {
   "cell_type": "markdown",
   "metadata": {},
   "source": [
    "## Decision Tree"
   ]
  },
  {
   "cell_type": "code",
   "execution_count": 3,
   "metadata": {},
   "outputs": [],
   "source": [
    "def DT(X,y):\n",
    "    \n",
    "    # define model\n",
    "    model = DecisionTreeRegressor()\n",
    "    \n",
    "    # define evaluation\n",
    "    cv = RepeatedKFold(n_splits=10, n_repeats=3, random_state=1)\n",
    "    \n",
    "    # define search space\n",
    "    space = {  'max_depth': [int(x) for x in np.linspace(5, 30, num = 6)],\n",
    "               'min_samples_split': [2, 5, 10, 15, 100],\n",
    "               'min_samples_leaf': [1, 2, 5, 10]}\n",
    "     \n",
    "    # define search    \n",
    "    search = GridSearchCV(model, space, scoring='neg_mean_absolute_error', n_jobs=-1, cv=cv)\n",
    "    \n",
    "    # execute search\n",
    "    result = search.fit(X, y)\n",
    "    \n",
    "    # summarize result\n",
    "    print('Best Score: %s' % result.best_score_)\n",
    "    print('Best Hyperparameters: %s' % result.best_params_)"
   ]
  },
  {
   "cell_type": "markdown",
   "metadata": {},
   "source": [
    "# Call Model functions"
   ]
  },
  {
   "cell_type": "markdown",
   "metadata": {},
   "source": [
    "## Scaled Dataset"
   ]
  },
  {
   "cell_type": "code",
   "execution_count": 5,
   "metadata": {},
   "outputs": [],
   "source": [
    "# load dataset\n",
    "url = 'scaled_data.csv'\n",
    "dataframe = read_csv(url, header=0)\n",
    "\n",
    "# split into input and output elements\n",
    "data = dataframe.values\n",
    "X, y = data[:, :-1], data[:, -1]"
   ]
  },
  {
   "cell_type": "code",
   "execution_count": 6,
   "metadata": {},
   "outputs": [
    {
     "name": "stdout",
     "output_type": "stream",
     "text": [
      "Best Score: -1037.2325191357693\n",
      "Best Hyperparameters: {'alpha': 0.1, 'fit_intercept': True, 'normalize': True, 'solver': 'lsqr'}\n"
     ]
    }
   ],
   "source": [
    "LR(X,y)"
   ]
  },
  {
   "cell_type": "code",
   "execution_count": 7,
   "metadata": {},
   "outputs": [
    {
     "name": "stdout",
     "output_type": "stream",
     "text": [
      "Best Score: -1063.5192792592593\n",
      "Best Hyperparameters: {'max_depth': 5, 'min_samples_leaf': 1, 'min_samples_split': 100}\n"
     ]
    }
   ],
   "source": [
    "DT(X,y)"
   ]
  },
  {
   "cell_type": "markdown",
   "metadata": {},
   "source": [
    "## Unscaled Dataset"
   ]
  },
  {
   "cell_type": "code",
   "execution_count": 11,
   "metadata": {},
   "outputs": [],
   "source": [
    "# load dataset\n",
    "url = 'unscaled_data.csv'\n",
    "dataframe = read_csv(url, header=0)\n",
    "\n",
    "# split into input and output elements\n",
    "data = dataframe.values\n",
    "X, y = data[:, :-1], data[:, -1]"
   ]
  },
  {
   "cell_type": "code",
   "execution_count": 12,
   "metadata": {},
   "outputs": [
    {
     "name": "stdout",
     "output_type": "stream",
     "text": [
      "Best Score: -1037.2325191357693\n",
      "Best Hyperparameters: {'alpha': 0.1, 'fit_intercept': True, 'normalize': True, 'solver': 'lsqr'}\n"
     ]
    }
   ],
   "source": [
    "LR(X,y)"
   ]
  },
  {
   "cell_type": "code",
   "execution_count": 13,
   "metadata": {},
   "outputs": [
    {
     "name": "stdout",
     "output_type": "stream",
     "text": [
      "Best Score: -1063.5192792592593\n",
      "Best Hyperparameters: {'max_depth': 5, 'min_samples_leaf': 1, 'min_samples_split': 100}\n"
     ]
    }
   ],
   "source": [
    "DT(X,y)"
   ]
  },
  {
   "cell_type": "markdown",
   "metadata": {},
   "source": [
    "* Linear Regression performs better than Decision Tree"
   ]
  }
 ],
 "metadata": {
  "kernelspec": {
   "display_name": "Python 3",
   "language": "python",
   "name": "python3"
  },
  "language_info": {
   "codemirror_mode": {
    "name": "ipython",
    "version": 3
   },
   "file_extension": ".py",
   "mimetype": "text/x-python",
   "name": "python",
   "nbconvert_exporter": "python",
   "pygments_lexer": "ipython3",
   "version": "3.7.4"
  }
 },
 "nbformat": 4,
 "nbformat_minor": 2
}
